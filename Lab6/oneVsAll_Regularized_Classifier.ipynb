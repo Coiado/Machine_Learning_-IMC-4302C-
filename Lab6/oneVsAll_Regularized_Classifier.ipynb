{
 "cells": [
  {
   "cell_type": "markdown",
   "metadata": {},
   "source": [
    "# Lab 6: One Vs All Regularized Classifier\n",
    "For multiclass classification there is two main method \"One vs one classifier\" and \"One vs all classifier\" (called also \"\"One vs the rest). The first method train $\\frac{K\\times(K-1)}{2}$ classifiers for $K$ classes and it compare all classes between each other two by two. While, \"One vs All classifier\" compare each class with the $K-1$ remaining class together. Thus, we train only $K$ classifier. In this session, we will use \"One vs all\" approach to classify handwritten digits into 10 ($K=10$) classes with labels from 0 to 9.  \n",
    "\n",
    "During this Lab, we will work with **Spyder IDE** (**I**ntegrated **D**evelopment **E**nvironment). We have 4 python file:\n",
    "- Handwritting_main.py: the main function of our program that call different other module and function\n",
    "- Display_digits.py: display module that helps to display digit images from the database.\n",
    "- OneVsAll_Classifier.py: this module contains training and prediction functions for our multiclass classifier\n",
    "- predict_your_digits.py: this module helps to test our classifier on our handmade digit images. \n",
    "\n",
    "<font color=\"blue\">**Question 1: **</font> On \"OneVsAll_Classifier.py\" file:\n",
    "- Use sklearn \"LogisticRegression\" class and \"fit\" function to train \"logistic_regr\" K classifiers with \"X\" and \"y\" input vectors.\n",
    "- Use \"predict_proba\" function to predict probability of belonging to the corresponding classifier label.\n",
    "- Use \"argmax\" function from numpy library to predict label with max probability from the calculated probability matrix \"predict_proba\".\n",
    "\n",
    "<font color=\"blue\">**Question 2: **</font> On \"Handwritting_main.py\" file:\n",
    "- Load data from \"hand_writing.txt\" file in \"hand_writing\" variable and check its size. (use [loadtxt](https://docs.scipy.org/doc/numpy-1.13.0/reference/generated/numpy.loadtxt.html) function from numpy library)  \n",
    "This dataset contains 5000 of $20 \\times 20$ pixel images. These images are flatten and saved on single line of 400 pixels on our dataset. Each columns of the 400 of hand_writting dataset represent pixel intensity (a feature for our classifier).\n",
    "- Call \"Predict_OneVsAll\" function from \"OneVsAll_Classifier\" module to predict classes \"y_pred\" of our dataset \n",
    "- Calculate the \"train_accuracy\". What do you notice?\n",
    "- Make your own digit images and call \"predict\" function from \"predict_your_digits\" module to see how well our trained classifier will behave on your handwritten digits.  \n",
    "**Hint:** You could use this online tool [https://www.youidraw.com/apps/painter/](https://www.youidraw.com/apps/painter/) to draw a digit image . It is recommended to make $400\\times400$ pixels image and to draw with a white pencil of size 50 on gray background."
   ]
  }
 ],
 "metadata": {
  "kernelspec": {
   "display_name": "Python 3",
   "language": "python",
   "name": "python3"
  },
  "language_info": {
   "codemirror_mode": {
    "name": "ipython",
    "version": 3
   },
   "file_extension": ".py",
   "mimetype": "text/x-python",
   "name": "python",
   "nbconvert_exporter": "python",
   "pygments_lexer": "ipython3",
   "version": "3.6.3"
  }
 },
 "nbformat": 4,
 "nbformat_minor": 2
}
